{
 "cells": [
  {
   "cell_type": "markdown",
   "id": "56092b21",
   "metadata": {},
   "source": [
    "MSLR dataset"
   ]
  },
  {
   "cell_type": "code",
   "execution_count": null,
   "id": "49940e49",
   "metadata": {},
   "outputs": [],
   "source": [
    "# import subprocess\n",
    "\n",
    "# subprocess.run('wget https://ai2-s2-mslr.s3.us-west-2.amazonaws.com/mslr_data.tar.gz -O mslr_data.tar.gz', shell=True)\n",
    "# subprocess.run('tar -xvf mslr_data.tar.gz', shell=True)"
   ]
  },
  {
   "cell_type": "code",
   "execution_count": 8,
   "id": "995213e9",
   "metadata": {},
   "outputs": [],
   "source": [
    "import os\n",
    "import pandas as pd\n",
    "\n",
    "data_dir = \"mslr_data/cochrane\"\n",
    "stats = {}\n",
    "\n",
    "for filename in os.listdir(data_dir):\n",
    "    filepath = os.path.join(data_dir, filename)\n",
    "    if os.path.isfile(filepath) and filename.endswith('.csv'):\n",
    "        df = pd.read_csv(filepath)\n",
    "        stats['cochrane'+filename] = df\n",
    "\n",
    "# for stat in stats:\n",
    "#     print(f\"File: {stat['file']}\")\n",
    "#     print(f\"Rows: {stat['rows']}, Columns: {stat['columns']}\")\n",
    "#     print(f\"Column names: {stat['column_names']}\\n\")"
   ]
  },
  {
   "cell_type": "code",
   "execution_count": 9,
   "id": "276f4cdd",
   "metadata": {},
   "outputs": [],
   "source": [
    "data_dir = \"mslr_data/ms2\"\n",
    "\n",
    "for filename in os.listdir(data_dir):\n",
    "    filepath = os.path.join(data_dir, filename)\n",
    "    if os.path.isfile(filepath) and filename.endswith('.csv'):\n",
    "        df = pd.read_csv(filepath)\n",
    "        stats['ms2'+filename] = df\n",
    "\n",
    "# for stat in stats:\n",
    "#     print(f\"File: {stat['file']}\")\n",
    "#     print(f\"Rows: {stat['rows']}, Columns: {stat['columns']}\")\n",
    "#     print(f\"Column names: {stat['column_names']}\\n\")"
   ]
  },
  {
   "cell_type": "code",
   "execution_count": 10,
   "id": "d1615a67",
   "metadata": {},
   "outputs": [
    {
     "data": {
      "text/plain": [
       "dict_keys(['cochranedev-inputs.csv', 'cochranedev-targets.csv', 'cochranetest-inputs.csv', 'cochranetrain-inputs.csv', 'cochranetrain-targets.csv', 'ms2dev-inputs.csv', 'ms2dev-reviews-info.csv', 'ms2dev-targets.csv', 'ms2test-inputs.csv', 'ms2test-reviews-info.csv', 'ms2train-inputs.csv', 'ms2train-reviews-info.csv', 'ms2train-targets.csv'])"
      ]
     },
     "execution_count": 10,
     "metadata": {},
     "output_type": "execute_result"
    }
   ],
   "source": [
    "stats.keys()"
   ]
  },
  {
   "cell_type": "code",
   "execution_count": 13,
   "id": "ed6d42d2",
   "metadata": {},
   "outputs": [
    {
     "data": {
      "text/html": [
       "<div>\n",
       "<style scoped>\n",
       "    .dataframe tbody tr th:only-of-type {\n",
       "        vertical-align: middle;\n",
       "    }\n",
       "\n",
       "    .dataframe tbody tr th {\n",
       "        vertical-align: top;\n",
       "    }\n",
       "\n",
       "    .dataframe thead th {\n",
       "        text-align: right;\n",
       "    }\n",
       "</style>\n",
       "<table border=\"1\" class=\"dataframe\">\n",
       "  <thead>\n",
       "    <tr style=\"text-align: right;\">\n",
       "      <th></th>\n",
       "      <th>Unnamed: 0_x</th>\n",
       "      <th>ReviewID</th>\n",
       "      <th>PMID</th>\n",
       "      <th>Title</th>\n",
       "      <th>Abstract</th>\n",
       "      <th>Unnamed: 0_y</th>\n",
       "      <th>Target</th>\n",
       "    </tr>\n",
       "  </thead>\n",
       "  <tbody>\n",
       "    <tr>\n",
       "      <th>0</th>\n",
       "      <td>0</td>\n",
       "      <td>CD007697</td>\n",
       "      <td>16394043</td>\n",
       "      <td>Aggressive surgical effort and improved surviv...</td>\n",
       "      <td>Residual disease after initial surgery for ova...</td>\n",
       "      <td>0</td>\n",
       "      <td>We found only low quality evidence comparing u...</td>\n",
       "    </tr>\n",
       "    <tr>\n",
       "      <th>1</th>\n",
       "      <td>1</td>\n",
       "      <td>CD000174</td>\n",
       "      <td>8627434</td>\n",
       "      <td>Prophylactic indomethacin therapy in the first...</td>\n",
       "      <td>To determine whether a course of low-dose indo...</td>\n",
       "      <td>1</td>\n",
       "      <td>Prophylactic indomethacin has short-term benef...</td>\n",
       "    </tr>\n",
       "    <tr>\n",
       "      <th>2</th>\n",
       "      <td>2</td>\n",
       "      <td>CD000174</td>\n",
       "      <td>2677294</td>\n",
       "      <td>Indomethacin reduces the risks of severe intra...</td>\n",
       "      <td>A prospective, random selection, double-blind ...</td>\n",
       "      <td>1</td>\n",
       "      <td>Prophylactic indomethacin has short-term benef...</td>\n",
       "    </tr>\n",
       "    <tr>\n",
       "      <th>3</th>\n",
       "      <td>3</td>\n",
       "      <td>CD000174</td>\n",
       "      <td>3373404</td>\n",
       "      <td>Administration of indomethacin for the prevent...</td>\n",
       "      <td>One hundred twenty-two preterm infants were en...</td>\n",
       "      <td>1</td>\n",
       "      <td>Prophylactic indomethacin has short-term benef...</td>\n",
       "    </tr>\n",
       "    <tr>\n",
       "      <th>4</th>\n",
       "      <td>4</td>\n",
       "      <td>CD000174</td>\n",
       "      <td>3321891</td>\n",
       "      <td>Early intravenous indomethacin prolongs respir...</td>\n",
       "      <td>Infants weighing 1500 g at birth requiring eit...</td>\n",
       "      <td>1</td>\n",
       "      <td>Prophylactic indomethacin has short-term benef...</td>\n",
       "    </tr>\n",
       "  </tbody>\n",
       "</table>\n",
       "</div>"
      ],
      "text/plain": [
       "   Unnamed: 0_x  ReviewID      PMID  \\\n",
       "0             0  CD007697  16394043   \n",
       "1             1  CD000174   8627434   \n",
       "2             2  CD000174   2677294   \n",
       "3             3  CD000174   3373404   \n",
       "4             4  CD000174   3321891   \n",
       "\n",
       "                                               Title  \\\n",
       "0  Aggressive surgical effort and improved surviv...   \n",
       "1  Prophylactic indomethacin therapy in the first...   \n",
       "2  Indomethacin reduces the risks of severe intra...   \n",
       "3  Administration of indomethacin for the prevent...   \n",
       "4  Early intravenous indomethacin prolongs respir...   \n",
       "\n",
       "                                            Abstract  Unnamed: 0_y  \\\n",
       "0  Residual disease after initial surgery for ova...             0   \n",
       "1  To determine whether a course of low-dose indo...             1   \n",
       "2  A prospective, random selection, double-blind ...             1   \n",
       "3  One hundred twenty-two preterm infants were en...             1   \n",
       "4  Infants weighing 1500 g at birth requiring eit...             1   \n",
       "\n",
       "                                              Target  \n",
       "0  We found only low quality evidence comparing u...  \n",
       "1  Prophylactic indomethacin has short-term benef...  \n",
       "2  Prophylactic indomethacin has short-term benef...  \n",
       "3  Prophylactic indomethacin has short-term benef...  \n",
       "4  Prophylactic indomethacin has short-term benef...  "
      ]
     },
     "execution_count": 13,
     "metadata": {},
     "output_type": "execute_result"
    }
   ],
   "source": [
    "# cochrane train df\n",
    "cochrane_train_df = pd.merge(stats['cochrane'+'train-inputs.csv'], stats['cochrane'+'train-targets.csv'], how='inner', on=['ReviewID'])\n",
    "cochrane_train_df.head(5)"
   ]
  },
  {
   "cell_type": "code",
   "execution_count": 19,
   "id": "0e9670bd",
   "metadata": {},
   "outputs": [
    {
     "data": {
      "text/plain": [
       "Unnamed: 0_x    37886\n",
       "ReviewID        37886\n",
       "PMID            37886\n",
       "Title           37886\n",
       "Abstract        37886\n",
       "Unnamed: 0_y    37886\n",
       "Target          37886\n",
       "dtype: int64"
      ]
     },
     "execution_count": 19,
     "metadata": {},
     "output_type": "execute_result"
    }
   ],
   "source": [
    "cochrane_train_df = cochrane_train_df.dropna()\n",
    "cochrane_train_df.isna().sum()\n",
    "cochrane_train_df.count()"
   ]
  },
  {
   "cell_type": "code",
   "execution_count": 20,
   "id": "f8c66885",
   "metadata": {},
   "outputs": [
    {
     "data": {
      "text/html": [
       "<div>\n",
       "<style scoped>\n",
       "    .dataframe tbody tr th:only-of-type {\n",
       "        vertical-align: middle;\n",
       "    }\n",
       "\n",
       "    .dataframe tbody tr th {\n",
       "        vertical-align: top;\n",
       "    }\n",
       "\n",
       "    .dataframe thead th {\n",
       "        text-align: right;\n",
       "    }\n",
       "</style>\n",
       "<table border=\"1\" class=\"dataframe\">\n",
       "  <thead>\n",
       "    <tr style=\"text-align: right;\">\n",
       "      <th></th>\n",
       "      <th>Unnamed: 0_x</th>\n",
       "      <th>ReviewID</th>\n",
       "      <th>PMID</th>\n",
       "      <th>Title</th>\n",
       "      <th>Abstract</th>\n",
       "      <th>Unnamed: 0_y</th>\n",
       "      <th>Target</th>\n",
       "    </tr>\n",
       "  </thead>\n",
       "  <tbody>\n",
       "    <tr>\n",
       "      <th>0</th>\n",
       "      <td>0</td>\n",
       "      <td>CD007016</td>\n",
       "      <td>11849419</td>\n",
       "      <td>Is peritoneal dialysis adequate for hypercatab...</td>\n",
       "      <td>Peritoneal dialysis (PD) is a therapeutic opti...</td>\n",
       "      <td>0</td>\n",
       "      <td>At present, there is insufficient RCT evidence...</td>\n",
       "    </tr>\n",
       "    <tr>\n",
       "      <th>1</th>\n",
       "      <td>1</td>\n",
       "      <td>CD007119</td>\n",
       "      <td>16809729</td>\n",
       "      <td>Phase II trial of alfimeprase, a novel-acting ...</td>\n",
       "      <td>Alfimeprase is a recombinantly produced, genet...</td>\n",
       "      <td>1</td>\n",
       "      <td>There is inadequate evidence to draw strong co...</td>\n",
       "    </tr>\n",
       "    <tr>\n",
       "      <th>2</th>\n",
       "      <td>2</td>\n",
       "      <td>CD007119</td>\n",
       "      <td>15178717</td>\n",
       "      <td>Dose-ranging trial with a recombinant urokinas...</td>\n",
       "      <td>Recombinant urokinase (r-UK) is a high-molecul...</td>\n",
       "      <td>1</td>\n",
       "      <td>There is inadequate evidence to draw strong co...</td>\n",
       "    </tr>\n",
       "    <tr>\n",
       "      <th>3</th>\n",
       "      <td>3</td>\n",
       "      <td>CD007119</td>\n",
       "      <td>11487675</td>\n",
       "      <td>Recombinant tissue plasminogen activator (alte...</td>\n",
       "      <td>Central venous access devices (CVADs) are a ma...</td>\n",
       "      <td>1</td>\n",
       "      <td>There is inadequate evidence to draw strong co...</td>\n",
       "    </tr>\n",
       "    <tr>\n",
       "      <th>4</th>\n",
       "      <td>4</td>\n",
       "      <td>CD007119</td>\n",
       "      <td>14742778</td>\n",
       "      <td>Alteplase for central catheter clearance: 1 mg...</td>\n",
       "      <td>NaN</td>\n",
       "      <td>1</td>\n",
       "      <td>There is inadequate evidence to draw strong co...</td>\n",
       "    </tr>\n",
       "  </tbody>\n",
       "</table>\n",
       "</div>"
      ],
      "text/plain": [
       "   Unnamed: 0_x  ReviewID      PMID  \\\n",
       "0             0  CD007016  11849419   \n",
       "1             1  CD007119  16809729   \n",
       "2             2  CD007119  15178717   \n",
       "3             3  CD007119  11487675   \n",
       "4             4  CD007119  14742778   \n",
       "\n",
       "                                               Title  \\\n",
       "0  Is peritoneal dialysis adequate for hypercatab...   \n",
       "1  Phase II trial of alfimeprase, a novel-acting ...   \n",
       "2  Dose-ranging trial with a recombinant urokinas...   \n",
       "3  Recombinant tissue plasminogen activator (alte...   \n",
       "4  Alteplase for central catheter clearance: 1 mg...   \n",
       "\n",
       "                                            Abstract  Unnamed: 0_y  \\\n",
       "0  Peritoneal dialysis (PD) is a therapeutic opti...             0   \n",
       "1  Alfimeprase is a recombinantly produced, genet...             1   \n",
       "2  Recombinant urokinase (r-UK) is a high-molecul...             1   \n",
       "3  Central venous access devices (CVADs) are a ma...             1   \n",
       "4                                                NaN             1   \n",
       "\n",
       "                                              Target  \n",
       "0  At present, there is insufficient RCT evidence...  \n",
       "1  There is inadequate evidence to draw strong co...  \n",
       "2  There is inadequate evidence to draw strong co...  \n",
       "3  There is inadequate evidence to draw strong co...  \n",
       "4  There is inadequate evidence to draw strong co...  "
      ]
     },
     "execution_count": 20,
     "metadata": {},
     "output_type": "execute_result"
    }
   ],
   "source": [
    "# cochrane dev df\n",
    "cochrane_dev_df = pd.merge(stats['cochrane'+'dev-inputs.csv'], stats['cochrane'+'dev-targets.csv'], how='inner', on=['ReviewID'])\n",
    "cochrane_dev_df.head(5)"
   ]
  },
  {
   "cell_type": "code",
   "execution_count": 21,
   "id": "160ac2ba",
   "metadata": {},
   "outputs": [
    {
     "data": {
      "text/plain": [
       "Unnamed: 0_x    4729\n",
       "ReviewID        4729\n",
       "PMID            4729\n",
       "Title           4729\n",
       "Abstract        4729\n",
       "Unnamed: 0_y    4729\n",
       "Target          4729\n",
       "dtype: int64"
      ]
     },
     "execution_count": 21,
     "metadata": {},
     "output_type": "execute_result"
    }
   ],
   "source": [
    "cochrane_dev_df = cochrane_dev_df.dropna()\n",
    "cochrane_dev_df.isna().sum()\n",
    "cochrane_dev_df.count()"
   ]
  },
  {
   "cell_type": "code",
   "execution_count": 23,
   "id": "089282e1",
   "metadata": {},
   "outputs": [
    {
     "data": {
      "text/html": [
       "<div>\n",
       "<style scoped>\n",
       "    .dataframe tbody tr th:only-of-type {\n",
       "        vertical-align: middle;\n",
       "    }\n",
       "\n",
       "    .dataframe tbody tr th {\n",
       "        vertical-align: top;\n",
       "    }\n",
       "\n",
       "    .dataframe thead th {\n",
       "        text-align: right;\n",
       "    }\n",
       "</style>\n",
       "<table border=\"1\" class=\"dataframe\">\n",
       "  <thead>\n",
       "    <tr style=\"text-align: right;\">\n",
       "      <th></th>\n",
       "      <th>Unnamed: 0</th>\n",
       "      <th>ReviewID</th>\n",
       "      <th>PMID</th>\n",
       "      <th>Title</th>\n",
       "      <th>Abstract</th>\n",
       "    </tr>\n",
       "  </thead>\n",
       "  <tbody>\n",
       "    <tr>\n",
       "      <th>0</th>\n",
       "      <td>0</td>\n",
       "      <td>CD000220</td>\n",
       "      <td>11519502</td>\n",
       "      <td>Failure of metronidazole to prevent preterm de...</td>\n",
       "      <td>Infection with Trichomonas vaginalis during pr...</td>\n",
       "    </tr>\n",
       "    <tr>\n",
       "      <th>1</th>\n",
       "      <td>1</td>\n",
       "      <td>CD000220</td>\n",
       "      <td>6845046</td>\n",
       "      <td>Trichomonas infection in pregnancy--does it af...</td>\n",
       "      <td>Antenatal patients free of Trichomonas vaginal...</td>\n",
       "    </tr>\n",
       "    <tr>\n",
       "      <th>2</th>\n",
       "      <td>2</td>\n",
       "      <td>CD008120</td>\n",
       "      <td>16259547</td>\n",
       "      <td>Adjunctive risperidone in generalized anxiety ...</td>\n",
       "      <td>Although significant advances have been made i...</td>\n",
       "    </tr>\n",
       "    <tr>\n",
       "      <th>3</th>\n",
       "      <td>3</td>\n",
       "      <td>CD008120</td>\n",
       "      <td>18246327</td>\n",
       "      <td>Quetiapine augmentation of paroxetine CR for t...</td>\n",
       "      <td>More data are needed to guide \"next step\" stra...</td>\n",
       "    </tr>\n",
       "    <tr>\n",
       "      <th>4</th>\n",
       "      <td>4</td>\n",
       "      <td>CD008120</td>\n",
       "      <td>18007568</td>\n",
       "      <td>Adjunctive risperidone in the treatment of gen...</td>\n",
       "      <td>Residual symptoms despite treatment are common...</td>\n",
       "    </tr>\n",
       "  </tbody>\n",
       "</table>\n",
       "</div>"
      ],
      "text/plain": [
       "   Unnamed: 0  ReviewID      PMID  \\\n",
       "0           0  CD000220  11519502   \n",
       "1           1  CD000220   6845046   \n",
       "2           2  CD008120  16259547   \n",
       "3           3  CD008120  18246327   \n",
       "4           4  CD008120  18007568   \n",
       "\n",
       "                                               Title  \\\n",
       "0  Failure of metronidazole to prevent preterm de...   \n",
       "1  Trichomonas infection in pregnancy--does it af...   \n",
       "2  Adjunctive risperidone in generalized anxiety ...   \n",
       "3  Quetiapine augmentation of paroxetine CR for t...   \n",
       "4  Adjunctive risperidone in the treatment of gen...   \n",
       "\n",
       "                                            Abstract  \n",
       "0  Infection with Trichomonas vaginalis during pr...  \n",
       "1  Antenatal patients free of Trichomonas vaginal...  \n",
       "2  Although significant advances have been made i...  \n",
       "3  More data are needed to guide \"next step\" stra...  \n",
       "4  Residual symptoms despite treatment are common...  "
      ]
     },
     "execution_count": 23,
     "metadata": {},
     "output_type": "execute_result"
    }
   ],
   "source": [
    "# cochrane test dataframe\n",
    "cochrane_test_df = stats['cochrane'+'test-inputs.csv']\n",
    "cochrane_test_df.head(5)"
   ]
  },
  {
   "cell_type": "code",
   "execution_count": 24,
   "id": "9f728881",
   "metadata": {},
   "outputs": [
    {
     "data": {
      "text/plain": [
       "Unnamed: 0    5329\n",
       "ReviewID      5329\n",
       "PMID          5329\n",
       "Title         5329\n",
       "Abstract      5329\n",
       "dtype: int64"
      ]
     },
     "execution_count": 24,
     "metadata": {},
     "output_type": "execute_result"
    }
   ],
   "source": [
    "cochrane_test_df = cochrane_test_df.dropna()\n",
    "cochrane_test_df.isna().sum()\n",
    "cochrane_test_df.count()"
   ]
  },
  {
   "cell_type": "code",
   "execution_count": null,
   "id": "51d11d4b",
   "metadata": {},
   "outputs": [],
   "source": []
  },
  {
   "cell_type": "markdown",
   "id": "32f94ba6",
   "metadata": {},
   "source": [
    "ELife and PLOS journal dataset"
   ]
  },
  {
   "cell_type": "code",
   "execution_count": null,
   "id": "baece4cf",
   "metadata": {},
   "outputs": [],
   "source": [
    "# import subprocess\n",
    "\n",
    "# result = subprocess.run(['tar', '-xvf', r'.\\drive-download-20251001T155819Z-1-001.zip'], capture_output=True, text=True)\n",
    "# print(result.stdout)\n"
   ]
  },
  {
   "cell_type": "code",
   "execution_count": null,
   "id": "d033f683",
   "metadata": {},
   "outputs": [
    {
     "name": "stdout",
     "output_type": "stream",
     "text": [
      "File: test_eLife_docs.jsonl\n",
      "Rows: 142, Columns: 4\n",
      "Column names: ['article', 'headings', 'keywords', 'id']\n",
      "\n",
      "File: test_eLife_laysums.txt\n",
      "Rows: 143, Columns: 1\n",
      "Column names: ['text']\n",
      "\n",
      "File: test_PLOS_docs.jsonl\n",
      "Rows: 142, Columns: 4\n",
      "Column names: ['article', 'headings', 'keywords', 'id']\n",
      "\n",
      "File: test_PLOS_laysums.txt\n",
      "Rows: 143, Columns: 1\n",
      "Column names: ['text']\n",
      "\n"
     ]
    }
   ],
   "source": [
    "import json\n",
    "elife_plos_stats = []\n",
    "elife_plos_dir = \"eLife_PLOS_data\"\n",
    "for filename in os.listdir(elife_plos_dir):\n",
    "    filepath = os.path.join(elife_plos_dir, filename)\n",
    "    if os.path.isfile(filepath):\n",
    "        if filename.endswith('.jsonl'):\n",
    "            with open(filepath, 'r', encoding='utf-8') as f:\n",
    "                lines = f.readlines()\n",
    "                if lines:\n",
    "                    sample = json.loads(lines[0])\n",
    "                    columns = list(sample.keys())\n",
    "                else:\n",
    "                    columns = []\n",
    "                stat = {\n",
    "                    \"file\": filename,\n",
    "                    \"rows\": len(lines),\n",
    "                    \"columns\": len(columns),\n",
    "                    \"column_names\": columns\n",
    "                }\n",
    "                elife_plos_stats.append(stat)\n",
    "                # convert json to df\n",
    "        elif filename.endswith('.txt'):\n",
    "            with open(filepath, 'r', encoding='utf-8') as f:\n",
    "                content = f.read()\n",
    "                stat = {\n",
    "                    \"file\": filename,\n",
    "                    \"rows\": content.count('\\n') + 1 if content else 0,\n",
    "                    \"columns\": 1,\n",
    "                    \"column_names\": [\"text\"]\n",
    "                }\n",
    "                elife_plos_stats.append(stat)\n",
    "\n",
    "for stat in elife_plos_stats:\n",
    "    print(f\"File: {stat['file']}\")\n",
    "    print(f\"Rows: {stat['rows']}, Columns: {stat['columns']}\")\n",
    "    print(f\"Column names: {stat['column_names']}\\n\")"
   ]
  },
  {
   "cell_type": "code",
   "execution_count": null,
   "id": "9a1fa19e",
   "metadata": {},
   "outputs": [],
   "source": [
    "# research one more scientific journal"
   ]
  }
 ],
 "metadata": {
  "kernelspec": {
   "display_name": "base",
   "language": "python",
   "name": "python3"
  },
  "language_info": {
   "codemirror_mode": {
    "name": "ipython",
    "version": 3
   },
   "file_extension": ".py",
   "mimetype": "text/x-python",
   "name": "python",
   "nbconvert_exporter": "python",
   "pygments_lexer": "ipython3",
   "version": "3.12.3"
  }
 },
 "nbformat": 4,
 "nbformat_minor": 5
}
